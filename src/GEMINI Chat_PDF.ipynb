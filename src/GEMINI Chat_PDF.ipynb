{
 "cells": [
  {
   "cell_type": "code",
   "execution_count": 1,
   "id": "c04610d8-849f-4802-b656-2749082787a3",
   "metadata": {},
   "outputs": [],
   "source": [
    "from langchain.document_loaders import PyPDFLoader\n",
    "from langchain.embeddings import HuggingFaceEmbeddings\n",
    "from langchain_google_genai import ChatGoogleGenerativeAI\n",
    "from langchain import FAISS\n",
    "     "
   ]
  },
  {
   "cell_type": "code",
   "execution_count": 3,
   "id": "88f6956d-b016-40b3-8eb7-d96418043d38",
   "metadata": {},
   "outputs": [],
   "source": [
    "import os\n",
    "# Set the API key as an environment variable\n",
    "os.environ[\"GOOGLE_API_KEY\"] = \"your api key\"\n",
    "\n",
    "# Initialize Model with API key\n",
    "llm = ChatGoogleGenerativeAI(google_api_key=os.environ[\"GOOGLE_API_KEY\"], model=\"gemini-1.5-flash\")\n"
   ]
  },
  {
   "cell_type": "code",
   "execution_count": 6,
   "id": "e7d40647-3374-478b-af3a-284e940f9706",
   "metadata": {},
   "outputs": [],
   "source": [
    "#load the pdf\n",
    "loader = PyPDFLoader(r\"C:\\Users\\pavan\\Downloads\\Understanding_Climate_Change.pdf\") #your path to pdf\n",
    "pages = loader.load_and_split()"
   ]
  },
  {
   "cell_type": "code",
   "execution_count": 11,
   "id": "07a0b2f2-c774-48a5-8c16-13022264a16e",
   "metadata": {},
   "outputs": [],
   "source": [
    "#Create a vector db index\n",
    "from langchain.embeddings import GooglePalmEmbeddings\n",
    "from langchain.vectorstores import Chroma\n",
    "# Initialize the embedding model\n",
    "embedding_model = GooglePalmEmbeddings()\n",
    "#embeddings = HuggingFaceEmbeddings(model_name=\"all-MiniLM-L6-v2\")\n",
    "# Create the vector store from the document chunks\n",
    "#vectorstore = Chroma.from_documents(documents=pages, embedding=embedding_model)\n",
    "db = FAISS.from_documents(pages, embedding_model)\n",
    "     "
   ]
  },
  {
   "cell_type": "code",
   "execution_count": 18,
   "id": "133d60d6-b161-400c-bc0c-9210b95eebc9",
   "metadata": {},
   "outputs": [],
   "source": [
    "#Search relevant docs\n",
    "query = \"What is deforestation?\"\n",
    "docs = db.similarity_search(query)\n",
    "     "
   ]
  },
  {
   "cell_type": "code",
   "execution_count": 19,
   "id": "45d56908-7ad7-404e-a673-79d0c77348a2",
   "metadata": {},
   "outputs": [
    {
     "data": {
      "text/plain": [
       "'Deforestation is the cutting down of trees for timber or to clear land for agriculture, which releases stored carbon back into the atmosphere. This reduces the number of trees that can absorb CO2, exacerbating the greenhouse effect. \\n'"
      ]
     },
     "execution_count": 19,
     "metadata": {},
     "output_type": "execute_result"
    }
   ],
   "source": [
    "content = \"\\n\".join([x.page_content for x in docs])\n",
    "qa_prompt = \"Use the following pieces of context to answer the user's question. If you don't know the answer, just say that you don't know, don't try to make up an answer.----------------\"\n",
    "input_text = qa_prompt+\"\\nContext:\"+content+\"\\nUser question:\\n\"+query\n",
    "\n",
    "result = llm.invoke(input_text)\n",
    "result.content\n",
    "     "
   ]
  },
  {
   "cell_type": "code",
   "execution_count": null,
   "id": "2ed7e1ef-1764-4047-bbc6-dca5aaf3a278",
   "metadata": {},
   "outputs": [],
   "source": []
  }
 ],
 "metadata": {
  "kernelspec": {
   "display_name": "Python 3 (ipykernel)",
   "language": "python",
   "name": "python3"
  },
  "language_info": {
   "codemirror_mode": {
    "name": "ipython",
    "version": 3
   },
   "file_extension": ".py",
   "mimetype": "text/x-python",
   "name": "python",
   "nbconvert_exporter": "python",
   "pygments_lexer": "ipython3",
   "version": "3.11.9"
  }
 },
 "nbformat": 4,
 "nbformat_minor": 5
}
