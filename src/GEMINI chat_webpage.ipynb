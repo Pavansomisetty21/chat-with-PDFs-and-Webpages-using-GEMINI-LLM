{
 "cells": [
  {
   "cell_type": "code",
   "execution_count": 9,
   "id": "61449701-83f6-4719-bf9c-c087eb704949",
   "metadata": {},
   "outputs": [],
   "source": [
    "from langchain.document_loaders import *\n",
    "from langchain.embeddings import HuggingFaceEmbeddings\n",
    "from langchain_google_genai import ChatGoogleGenerativeAI\n",
    "from langchain import FAISS\n",
    "     "
   ]
  },
  {
   "cell_type": "code",
   "execution_count": 10,
   "id": "efb8718f-0f8c-4acc-a559-3f5d4cf8bade",
   "metadata": {},
   "outputs": [],
   "source": [
    "import os\n",
    "# Set the API key as an environment variable\n",
    "os.environ[\"GOOGLE_API_KEY\"] = \"your api key\"\n",
    "\n",
    "# Initialize Model with API key\n",
    "llm = ChatGoogleGenerativeAI(google_api_key=os.environ[\"GOOGLE_API_KEY\"], model=\"gemini-1.5-flash\")\n"
   ]
  },
  {
   "cell_type": "code",
   "execution_count": 11,
   "id": "fb781437-832e-4792-a11d-f82f3b75426f",
   "metadata": {},
   "outputs": [],
   "source": [
    "\n",
    "# Load the blog\n",
    "loader = WebBaseLoader(\"https://www.javatpoint.com/java-jdbc\")\n",
    "docs = loader.load()\n"
   ]
  },
  {
   "cell_type": "code",
   "execution_count": 12,
   "id": "9e1987a3-8230-452f-8c77-0d11c658ad12",
   "metadata": {},
   "outputs": [],
   "source": [
    "#Create a vector db index\n",
    "from langchain.embeddings import GooglePalmEmbeddings\n",
    "from langchain.vectorstores import Chroma\n",
    "# Initialize the embedding model\n",
    "embedding_model = GooglePalmEmbeddings()\n",
    "#embeddings = HuggingFaceEmbeddings(model_name=\"all-MiniLM-L6-v2\")\n",
    "# Create the vector store from the document chunks\n",
    "#vectorstore = Chroma.from_documents(documents=pages, embedding=embedding_model)\n",
    "db = FAISS.from_documents(docs, embedding_model)\n",
    "     "
   ]
  },
  {
   "cell_type": "code",
   "execution_count": 13,
   "id": "e552c022-52ed-4eed-8316-6dd6d4ac7ac5",
   "metadata": {},
   "outputs": [],
   "source": [
    "#Search relevant docs\n",
    "query = \"What is connection?\"\n",
    "docs = db.similarity_search(query)\n",
    "     "
   ]
  },
  {
   "cell_type": "code",
   "execution_count": 14,
   "id": "461f01a3-f89f-4eb4-9ee7-19aa7680d807",
   "metadata": {},
   "outputs": [
    {
     "data": {
      "text/plain": [
       "\"The Connection interface in JDBC represents a connection to a database. It's like a gateway that allows your Java program to interact with the database. \\n\\nYou use the Connection object to: \\n\\n* **Execute SQL statements:** Send queries (SELECT, INSERT, UPDATE, DELETE) and commands to the database.\\n* **Manage transactions:**  Ensure that a series of database operations are treated as a single unit, either all succeeding or all failing. \\n* **Obtain metadata:** Get information about the database, such as tables, columns, and database properties.\\n\""
      ]
     },
     "execution_count": 14,
     "metadata": {},
     "output_type": "execute_result"
    }
   ],
   "source": [
    "content = \"\\n\".join([x.page_content for x in docs])\n",
    "qa_prompt = \"Use the following pieces of context to answer the user's question. If you don't know the answer, just say that you don't know, don't try to make up an answer.----------------\"\n",
    "input_text = qa_prompt+\"\\nContext:\"+content+\"\\nUser question:\\n\"+query\n",
    "\n",
    "result = llm.invoke(input_text)\n",
    "result.content\n",
    "     "
   ]
  },
  {
   "cell_type": "code",
   "execution_count": null,
   "id": "3aed0596-9f71-4546-9816-a02c445ccc89",
   "metadata": {},
   "outputs": [],
   "source": []
  }
 ],
 "metadata": {
  "kernelspec": {
   "display_name": "Python 3 (ipykernel)",
   "language": "python",
   "name": "python3"
  },
  "language_info": {
   "codemirror_mode": {
    "name": "ipython",
    "version": 3
   },
   "file_extension": ".py",
   "mimetype": "text/x-python",
   "name": "python",
   "nbconvert_exporter": "python",
   "pygments_lexer": "ipython3",
   "version": "3.11.9"
  }
 },
 "nbformat": 4,
 "nbformat_minor": 5
}
